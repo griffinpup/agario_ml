{
 "cells": [
  {
   "cell_type": "code",
   "execution_count": 3,
   "metadata": {},
   "outputs": [],
   "source": [
    "import sys"
   ]
  },
  {
   "cell_type": "code",
   "execution_count": 4,
   "metadata": {},
   "outputs": [
    {
     "data": {
      "text/plain": [
       "'c:\\\\users\\\\christopher.duhadway\\\\appdata\\\\local\\\\programs\\\\python\\\\python37-32\\\\python.exe'"
      ]
     },
     "execution_count": 4,
     "metadata": {},
     "output_type": "execute_result"
    }
   ],
   "source": [
    "sys.executable"
   ]
  },
  {
   "cell_type": "code",
   "execution_count": 5,
   "metadata": {},
   "outputs": [
    {
     "data": {
      "text/plain": [
       "['',\n",
       " 'C:\\\\Users\\\\christopher.duhadway\\\\temp\\\\ML\\\\project\\\\networks',\n",
       " 'c:\\\\users\\\\christopher.duhadway\\\\appdata\\\\local\\\\programs\\\\python\\\\python37-32\\\\python37.zip',\n",
       " 'c:\\\\users\\\\christopher.duhadway\\\\appdata\\\\local\\\\programs\\\\python\\\\python37-32\\\\DLLs',\n",
       " 'c:\\\\users\\\\christopher.duhadway\\\\appdata\\\\local\\\\programs\\\\python\\\\python37-32\\\\lib',\n",
       " 'c:\\\\users\\\\christopher.duhadway\\\\appdata\\\\local\\\\programs\\\\python\\\\python37-32',\n",
       " 'c:\\\\users\\\\christopher.duhadway\\\\appdata\\\\local\\\\programs\\\\python\\\\python37-32\\\\lib\\\\site-packages',\n",
       " 'c:\\\\users\\\\christopher.duhadway\\\\appdata\\\\local\\\\programs\\\\python\\\\python37-32\\\\lib\\\\site-packages\\\\IPython\\\\extensions',\n",
       " 'C:\\\\Users\\\\christopher.duhadway\\\\.ipython']"
      ]
     },
     "execution_count": 5,
     "metadata": {},
     "output_type": "execute_result"
    }
   ],
   "source": [
    "sys.path"
   ]
  },
  {
   "cell_type": "code",
   "execution_count": null,
   "metadata": {},
   "outputs": [],
   "source": []
  }
 ],
 "metadata": {
  "kernelspec": {
   "display_name": "Python 3",
   "language": "python",
   "name": "python3"
  },
  "language_info": {
   "codemirror_mode": {
    "name": "ipython",
    "version": 3
   },
   "file_extension": ".py",
   "mimetype": "text/x-python",
   "name": "python",
   "nbconvert_exporter": "python",
   "pygments_lexer": "ipython3",
   "version": "3.7.0"
  }
 },
 "nbformat": 4,
 "nbformat_minor": 2
}
