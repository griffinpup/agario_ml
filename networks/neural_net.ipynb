{
 "cells": [
  {
   "cell_type": "code",
   "execution_count": 1,
   "metadata": {},
   "outputs": [],
   "source": [
    "import json\n",
    "import numpy as np\n",
    "filename = 'eatStuff'"
   ]
  },
  {
   "cell_type": "code",
   "execution_count": 2,
   "metadata": {},
   "outputs": [],
   "source": [
    "with open('../agar.io-clone/bin/' + filename) as json_data:\n",
    "    data = json.load(json_data,) "
   ]
  },
  {
   "cell_type": "code",
   "execution_count": 3,
   "metadata": {},
   "outputs": [],
   "source": [
    "answers = np.ones((len(data), 2))\n",
    "food = np.ones((len(data), 50, 2))\n",
    "virus = np.ones((len(data), 10, 2))"
   ]
  },
  {
   "cell_type": "code",
   "execution_count": 4,
   "metadata": {},
   "outputs": [],
   "source": [
    "\n",
    "for i in range(len(data)):\n",
    "    answers[i][0] = data[i]['x']\n",
    "    answers[i][1] = data[i]['y']\n",
    "    k = 0\n",
    "    while k < len(data[i]['food'][filename]) or k < 50:\n",
    "        if (k < len(data[i]['food'][filename])):\n",
    "            food[i][k][0] = data[i]['food'][filename][k]['x']\n",
    "            food[i][k][1] = data[i]['food'][filename][k]['y']\n",
    "        else:\n",
    "            food[i][k][0] = 0\n",
    "            food[i][k][1] = 0\n",
    "        k += 1\n",
    "    k = 0\n",
    "    while k < len(data[i]['virus'][filename]) or k < 10:\n",
    "        if (k < len(data[i]['virus'][filename])):\n",
    "            virus[i][k][0] = data[i]['virus'][filename][k]['x']\n",
    "            virus[i][k][1] = data[i]['virus'][filename][k]['y']\n",
    "        else:\n",
    "            virus[i][k][0] = 0\n",
    "            virus[i][k][1] = 0\n",
    "        k += 1\n",
    "    answers[i][1] = data[i]['y']\n",
    "    #if (i == 12):\n",
    "        #print(data[i])"
   ]
  },
  {
   "cell_type": "code",
   "execution_count": 5,
   "metadata": {},
   "outputs": [
    {
     "data": {
      "text/plain": [
       "array([[ 725.        , 3533.        ],\n",
       "       [1288.49827584, 2863.49827584],\n",
       "       [ 202.29925373, 3555.29925373],\n",
       "       [ 628.74613392, 3282.74613392],\n",
       "       [1120.45227269, 3004.45227269],\n",
       "       [1400.14690015, 3174.14690015],\n",
       "       [   0.        ,    0.        ],\n",
       "       [   0.        ,    0.        ],\n",
       "       [   0.        ,    0.        ],\n",
       "       [   0.        ,    0.        ]])"
      ]
     },
     "execution_count": 5,
     "metadata": {},
     "output_type": "execute_result"
    }
   ],
   "source": [
    "virus[8]"
   ]
  },
  {
   "cell_type": "code",
   "execution_count": 6,
   "metadata": {},
   "outputs": [
    {
     "data": {
      "text/plain": [
       "array([[1485., 3023.],\n",
       "       [ 802., 3542.],\n",
       "       [1015., 2924.],\n",
       "       [1365., 3627.],\n",
       "       [1280., 3103.],\n",
       "       [ 906., 3604.],\n",
       "       [ 781., 3630.],\n",
       "       [1334., 3437.],\n",
       "       [ 735., 3291.],\n",
       "       [1767., 3411.],\n",
       "       [1408., 3277.],\n",
       "       [1203., 2934.],\n",
       "       [1153., 3008.],\n",
       "       [1595., 3557.],\n",
       "       [1156., 3088.],\n",
       "       [1492., 3423.],\n",
       "       [1573., 3588.],\n",
       "       [1748., 3493.],\n",
       "       [1562., 3479.],\n",
       "       [1431., 2907.],\n",
       "       [ 396., 2976.],\n",
       "       [ 678., 3268.],\n",
       "       [1092., 3435.],\n",
       "       [1069., 2920.],\n",
       "       [   0.,    0.],\n",
       "       [   0.,    0.],\n",
       "       [   0.,    0.],\n",
       "       [   0.,    0.],\n",
       "       [   0.,    0.],\n",
       "       [   0.,    0.],\n",
       "       [   0.,    0.],\n",
       "       [   0.,    0.],\n",
       "       [   0.,    0.],\n",
       "       [   0.,    0.],\n",
       "       [   0.,    0.],\n",
       "       [   0.,    0.],\n",
       "       [   0.,    0.],\n",
       "       [   0.,    0.],\n",
       "       [   0.,    0.],\n",
       "       [   0.,    0.],\n",
       "       [   0.,    0.],\n",
       "       [   0.,    0.],\n",
       "       [   0.,    0.],\n",
       "       [   0.,    0.],\n",
       "       [   0.,    0.],\n",
       "       [   0.,    0.],\n",
       "       [   0.,    0.],\n",
       "       [   0.,    0.],\n",
       "       [   0.,    0.],\n",
       "       [   0.,    0.]])"
      ]
     },
     "execution_count": 6,
     "metadata": {},
     "output_type": "execute_result"
    }
   ],
   "source": [
    "food[3]"
   ]
  },
  {
   "cell_type": "code",
   "execution_count": 7,
   "metadata": {},
   "outputs": [],
   "source": [
    "class NeuralNetwork:\n",
    "    def __init__(self, x, y):\n",
    "        self.x = x\n",
    "        self.y = y\n",
    "        self.hidden_size = 10\n",
    "        self.W1 = np.random.rand(x.shape[0], self.hidden_size) - 0.5\n",
    "        self.b1 = np.random.rand(x.shape[0])\n",
    "        self.W2 = np.random.rand(self.hidden_size, y.shape[0])\n",
    "        self.b1 = np.random.rand(self.hidden_size)\n",
    "    \n",
    "    def train(self, data, out):\n",
    "        return 0"
   ]
  },
  {
   "cell_type": "code",
   "execution_count": 8,
   "metadata": {},
   "outputs": [],
   "source": [
    "class NeuralNetworkLayer:\n",
    "    def __init__(self, x, y):\n",
    "        self.x = x\n",
    "        self.y = y\n",
    "        self.hidden_size = 10\n",
    "        self.W1 = np.random.rand(x.shape[0], y.shape[0]) - 0.5\n",
    "        #self.W1 = np.random.rand(x.shape[0], 1) - 0.5\n",
    "        self.b1 = np.random.rand(x.shape[0]) - 0.5\n",
    "        self.lr = .0001\n",
    "    \n",
    "    def train(self, data, out):\n",
    "        res = np.matmul(data + self.b1, self.W1)\n",
    "        loss = out - res\n",
    "        self.W1 += self.W1 * loss * self.lr\n",
    "        return loss\n",
    "    #\n",
    "    def test(self, data, out):\n",
    "        return 1"
   ]
  },
  {
   "cell_type": "code",
   "execution_count": 9,
   "metadata": {},
   "outputs": [],
   "source": [
    "x = np.ones((len(data), 120))\n",
    "for i in range(len(data)):\n",
    "    concat_val = np.concatenate((food[i], virus[i]), axis=0)\n",
    "    x[i] = concat_val.flatten()"
   ]
  },
  {
   "cell_type": "code",
   "execution_count": 10,
   "metadata": {},
   "outputs": [
    {
     "ename": "IndexError",
     "evalue": "tuple index out of range",
     "output_type": "error",
     "traceback": [
      "\u001b[0;31m---------------------------------------------------------------------------\u001b[0m",
      "\u001b[0;31mIndexError\u001b[0m                                Traceback (most recent call last)",
      "\u001b[0;32m<ipython-input-10-06dd12f59208>\u001b[0m in \u001b[0;36m<module>\u001b[0;34m\u001b[0m\n\u001b[0;32m----> 1\u001b[0;31m \u001b[0mnetwork\u001b[0m \u001b[0;34m=\u001b[0m \u001b[0mNeuralNetworkLayer\u001b[0m\u001b[0;34m(\u001b[0m\u001b[0mx\u001b[0m\u001b[0;34m[\u001b[0m\u001b[0;36m0\u001b[0m\u001b[0;34m]\u001b[0m\u001b[0;34m,\u001b[0m \u001b[0manswers\u001b[0m\u001b[0;34m[\u001b[0m\u001b[0;36m0\u001b[0m\u001b[0;34m]\u001b[0m\u001b[0;34m[\u001b[0m\u001b[0;36m1\u001b[0m\u001b[0;34m]\u001b[0m\u001b[0;34m)\u001b[0m\u001b[0;34m\u001b[0m\u001b[0m\n\u001b[0m",
      "\u001b[0;32m<ipython-input-8-108e60345b29>\u001b[0m in \u001b[0;36m__init__\u001b[0;34m(self, x, y)\u001b[0m\n\u001b[1;32m      4\u001b[0m         \u001b[0mself\u001b[0m\u001b[0;34m.\u001b[0m\u001b[0my\u001b[0m \u001b[0;34m=\u001b[0m \u001b[0my\u001b[0m\u001b[0;34m\u001b[0m\u001b[0m\n\u001b[1;32m      5\u001b[0m         \u001b[0mself\u001b[0m\u001b[0;34m.\u001b[0m\u001b[0mhidden_size\u001b[0m \u001b[0;34m=\u001b[0m \u001b[0;36m10\u001b[0m\u001b[0;34m\u001b[0m\u001b[0m\n\u001b[0;32m----> 6\u001b[0;31m         \u001b[0mself\u001b[0m\u001b[0;34m.\u001b[0m\u001b[0mW1\u001b[0m \u001b[0;34m=\u001b[0m \u001b[0mnp\u001b[0m\u001b[0;34m.\u001b[0m\u001b[0mrandom\u001b[0m\u001b[0;34m.\u001b[0m\u001b[0mrand\u001b[0m\u001b[0;34m(\u001b[0m\u001b[0mx\u001b[0m\u001b[0;34m.\u001b[0m\u001b[0mshape\u001b[0m\u001b[0;34m[\u001b[0m\u001b[0;36m0\u001b[0m\u001b[0;34m]\u001b[0m\u001b[0;34m,\u001b[0m \u001b[0my\u001b[0m\u001b[0;34m.\u001b[0m\u001b[0mshape\u001b[0m\u001b[0;34m[\u001b[0m\u001b[0;36m0\u001b[0m\u001b[0;34m]\u001b[0m\u001b[0;34m)\u001b[0m \u001b[0;34m-\u001b[0m \u001b[0;36m0.5\u001b[0m\u001b[0;34m\u001b[0m\u001b[0m\n\u001b[0m\u001b[1;32m      7\u001b[0m         \u001b[0;31m#self.W1 = np.random.rand(x.shape[0], 1) - 0.5\u001b[0m\u001b[0;34m\u001b[0m\u001b[0;34m\u001b[0m\u001b[0m\n\u001b[1;32m      8\u001b[0m         \u001b[0mself\u001b[0m\u001b[0;34m.\u001b[0m\u001b[0mb1\u001b[0m \u001b[0;34m=\u001b[0m \u001b[0mnp\u001b[0m\u001b[0;34m.\u001b[0m\u001b[0mrandom\u001b[0m\u001b[0;34m.\u001b[0m\u001b[0mrand\u001b[0m\u001b[0;34m(\u001b[0m\u001b[0mx\u001b[0m\u001b[0;34m.\u001b[0m\u001b[0mshape\u001b[0m\u001b[0;34m[\u001b[0m\u001b[0;36m0\u001b[0m\u001b[0;34m]\u001b[0m\u001b[0;34m)\u001b[0m \u001b[0;34m-\u001b[0m \u001b[0;36m0.5\u001b[0m\u001b[0;34m\u001b[0m\u001b[0m\n",
      "\u001b[0;31mIndexError\u001b[0m: tuple index out of range"
     ]
    }
   ],
   "source": [
    "network = NeuralNetworkLayer(x[0], answers[0][1])"
   ]
  },
  {
   "cell_type": "code",
   "execution_count": null,
   "metadata": {},
   "outputs": [],
   "source": [
    "network.train(x[0], answers[0][1])"
   ]
  },
  {
   "cell_type": "code",
   "execution_count": null,
   "metadata": {},
   "outputs": [],
   "source": [
    "loss = 0\n",
    "for i in range(len(data)):\n",
    "    #print(answers[i][0])\n",
    "    loss = network.train(x[i], answers[i][1])\n",
    "    print(loss)\n",
    "print('epoch 1')\n",
    "print(loss)"
   ]
  },
  {
   "cell_type": "code",
   "execution_count": null,
   "metadata": {},
   "outputs": [],
   "source": [
    "import matplotlib.pyplot as plt\n",
    "plt.plot(answers[:, 0])\n",
    "plt.ylabel('some numbers')\n",
    "plt.show()"
   ]
  },
  {
   "cell_type": "code",
   "execution_count": null,
   "metadata": {},
   "outputs": [],
   "source": [
    "network = NeuralNetworkLayer(x[0], answers[0])\n",
    "loss = 0\n",
    "for i in range(len(data)):\n",
    "    #print(answers[i][0])\n",
    "    loss = network.train(x[i], answers[i])\n",
    "    print(loss)\n",
    "print('epoch 1')\n",
    "print(loss)"
   ]
  },
  {
   "cell_type": "code",
   "execution_count": null,
   "metadata": {},
   "outputs": [],
   "source": []
  }
 ],
 "metadata": {
  "kernelspec": {
   "display_name": "Python 3",
   "language": "python",
   "name": "python3"
  },
  "language_info": {
   "codemirror_mode": {
    "name": "ipython",
    "version": 3
   },
   "file_extension": ".py",
   "mimetype": "text/x-python",
   "name": "python",
   "nbconvert_exporter": "python",
   "pygments_lexer": "ipython3",
   "version": "3.7.0"
  }
 },
 "nbformat": 4,
 "nbformat_minor": 2
}
